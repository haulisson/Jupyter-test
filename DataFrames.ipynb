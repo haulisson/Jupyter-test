{
 "cells": [
  {
   "cell_type": "markdown",
   "source": [
    "# DataFrames in Python"
   ],
   "metadata": {}
  },
  {
   "cell_type": "markdown",
   "source": [
    "This is a pandas DataFrame tutorial. we first start by importing the necessary packages:"
   ],
   "metadata": {}
  },
  {
   "cell_type": "code",
   "execution_count": 6,
   "source": [
    "import pandas as pd\r\n",
    "import numpy as np"
   ],
   "outputs": [],
   "metadata": {}
  },
  {
   "cell_type": "markdown",
   "source": [
    "Next, we make our DataFrame: "
   ],
   "metadata": {}
  },
  {
   "cell_type": "code",
   "execution_count": 7,
   "source": [
    "df = pd.DataFrame(data=np.array([[1,2,3], [4,5,6]], dtype=int),columns=['A','B','C'])\r\n",
    "df"
   ],
   "outputs": [
    {
     "output_type": "execute_result",
     "data": {
      "text/html": [
       "<div>\n",
       "<style scoped>\n",
       "    .dataframe tbody tr th:only-of-type {\n",
       "        vertical-align: middle;\n",
       "    }\n",
       "\n",
       "    .dataframe tbody tr th {\n",
       "        vertical-align: top;\n",
       "    }\n",
       "\n",
       "    .dataframe thead th {\n",
       "        text-align: right;\n",
       "    }\n",
       "</style>\n",
       "<table border=\"1\" class=\"dataframe\">\n",
       "  <thead>\n",
       "    <tr style=\"text-align: right;\">\n",
       "      <th></th>\n",
       "      <th>A</th>\n",
       "      <th>B</th>\n",
       "      <th>C</th>\n",
       "    </tr>\n",
       "  </thead>\n",
       "  <tbody>\n",
       "    <tr>\n",
       "      <td>0</td>\n",
       "      <td>1</td>\n",
       "      <td>2</td>\n",
       "      <td>3</td>\n",
       "    </tr>\n",
       "    <tr>\n",
       "      <td>1</td>\n",
       "      <td>4</td>\n",
       "      <td>5</td>\n",
       "      <td>6</td>\n",
       "    </tr>\n",
       "  </tbody>\n",
       "</table>\n",
       "</div>"
      ],
      "text/plain": [
       "   A  B  C\n",
       "0  1  2  3\n",
       "1  4  5  6"
      ]
     },
     "metadata": {},
     "execution_count": 7
    }
   ],
   "metadata": {}
  },
  {
   "cell_type": "code",
   "execution_count": null,
   "source": [
    "import os\r\n",
    "from IPython import get_ipython\r\n",
    "# print (get_ipython().config)\r\n",
    "\r\n",
    "if \"IPKernelApp\" in get_ipython().config:\r\n",
    "    print('TESTE')\r\n",
    "\r\n",
    "if \"VSCODE_PID\" in os.environ:\r\n",
    "    print('VSCODE 1') #raise ImportError(\"vscode\")\r\n",
    "\r\n",
    "if any('VSCODE' in name for name in os.environ):\r\n",
    "    print('VSCODE 2')\r\n",
    "\r\n",
    "if \"JUPYTERHUB\" in os.environ:\r\n",
    "    print('Jupyter 1') #raise ImportError(\"vscode\")\r\n",
    "\r\n",
    "if any('JUPYTERHUB' in name for name in os.environ):\r\n",
    "    print('Jupyter 2')\r\n",
    "   \r\n",
    "if any('SPYDER' in name for name in os.environ):\r\n",
    "    print('Spyder')"
   ],
   "outputs": [],
   "metadata": {}
  },
  {
   "cell_type": "code",
   "execution_count": null,
   "source": [
    "for a in os.environ:\r\n",
    "    print('Var: ', a, 'Value: ', os.getenv(a))\r\n",
    "print(\"all done\")"
   ],
   "outputs": [],
   "metadata": {}
  }
 ],
 "metadata": {
  "kernelspec": {
   "display_name": "Python 3",
   "language": "python",
   "name": "python3"
  },
  "language_info": {
   "codemirror_mode": {
    "name": "ipython",
    "version": 3
   },
   "file_extension": ".py",
   "mimetype": "text/x-python",
   "name": "python",
   "nbconvert_exporter": "python",
   "pygments_lexer": "ipython3",
   "version": "3.7.4"
  }
 },
 "nbformat": 4,
 "nbformat_minor": 2
}